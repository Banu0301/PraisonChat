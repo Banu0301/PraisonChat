# Import Required Modules
import os
from praisonai.auto import PraisonAgent

# Set your API key
os.environ["GROQ_API_KEY"] = "gsk_f"  # Replace with your actual API key

# Create Sub-Agents for Specific Topics
deep_learning_agent = PraisonAgent(
    name="DeepLearningExpert",
    role="AI Expert",
    goal="Explain deep learning concepts",
    instructions="Provide detailed yet simple explanations of deep learning.",
    llm="groq/llama3-8b-8192"
)

reinforcement_learning_agent = PraisonAgent(
    name="ReinforcementLearningExpert",
    role="RL Expert",
    goal="Explain reinforcement learning concepts",
    instructions="Explain reinforcement learning in a structured and engaging way.",
    llm="groq/llama3-8b-8192"
)

general_ai_agent = PraisonAgent(
    name="GeneralAIExpert",
    role="AI Assistant",
    goal="Answer general AI-related questions",
    instructions="Provide simple and accurate AI-related answers.",
    llm="groq/llama3-8b-8192"
)

# Function to route queries to the appropriate sub-agent
def route_query(query):
    query_lower = query.lower()
    if "deep learning" in query_lower or "neural network" in query_lower:
        return deep_learning_agent.start(query)
    elif "reinforcement learning" in query_lower or "agent-based learning" in query_lower:
        return reinforcement_learning_agent.start(query)
    else:
        return general_ai_agent.start(query)

# Interactive Chatbot
print("\n🤖 AI Chatbot is ready! Type your question or type 'exit' to quit.\n")

while True:
    user_input = input("You: ")  # Take user input
    
    if user_input.lower() == "exit":
        print("\n🤖 AI: Goodbye! Have a great day! 👋")
        break  # Exit the loop
    
    response = route_query(user_input)  # Get AI response
    print("\n🤖 AI:", response, "\n")  # Display AI response
